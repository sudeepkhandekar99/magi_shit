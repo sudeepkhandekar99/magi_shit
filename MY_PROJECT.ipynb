{
  "cells": [
    {
      "cell_type": "code",
      "execution_count": 3,
      "id": "de7d98b8",
      "metadata": {
        "id": "de7d98b8",
        "outputId": "031e01ea-c67e-4093-ad86-0e0f02e47faf",
        "colab": {
          "base_uri": "https://localhost:8080/"
        }
      },
      "outputs": [
        {
          "output_type": "stream",
          "name": "stderr",
          "text": [
            "WARNING:root:\n",
            "  \u001b[33m\u001b[1mWarning:\u001b[0m to view this Streamlit app on a browser, run it with the following\n",
            "  command:\n",
            "\n",
            "    streamlit run /usr/local/lib/python3.9/dist-packages/ipykernel_launcher.py [ARGUMENTS]\n",
            "2023-04-02 05:41:45.973 \n",
            "  \u001b[33m\u001b[1mWarning:\u001b[0m to view this Streamlit app on a browser, run it with the following\n",
            "  command:\n",
            "\n",
            "    streamlit run /usr/local/lib/python3.9/dist-packages/ipykernel_launcher.py [ARGUMENTS]\n"
          ]
        }
      ],
      "source": [
        "\n",
        "import streamlit as st\n",
        "import numpy as np\n",
        "import pandas as pd\n",
        "import matplotlib.pyplot as plt\n",
        "from tabulate import tabulate\n",
        "\n",
        "st.title('Stock Trading Strategy Backtesting App')\n",
        "\n",
        "# Get user inputs\n",
        "principal = st.number_input('Enter the principal amount:', value=10000.0)\n",
        "symbol = st.text_input('Enter the stock symbol:')\n",
        "start_date = st.date_input('Enter the start date:')\n",
        "end_date = st.date_input('Enter the end date:')\n",
        "strategy = st.selectbox('Select the trading strategy:', options=['SMA', 'EMA'])\n",
        "\n",
        "if st.button('Run Backtest'):\n",
        "    # Read data for the given stock symbol and date range\n",
        "    data = pd.read_csv(f\"/content/drive/MyDrive/Data/{symbol}.csv\", parse_dates=['Date'], index_col='Date')\n",
        "    data = data.loc[start_date:end_date]\n",
        "\n",
        "    # Calculate moving averages and trading signals\n",
        "    if strategy == 'SMA':\n",
        "        data['20_SMA'] = data.Close.rolling(window=20, min_periods=1).mean()\n",
        "        data['50_SMA'] = data.Close.rolling(window=50, min_periods=1).mean()\n",
        "        data['Signal'] = np.where(data['20_SMA'] > data['50_SMA'], 1, 0)\n",
        "    elif strategy == 'EMA':\n",
        "        data['20_EMA'] = data.Close.ewm(span=20, adjust=False).mean()\n",
        "        data['50_EMA'] = data.Close.ewm(span=50, adjust=False).mean()\n",
        "        data['Signal'] = np.where(data['20_EMA'] > data['50_EMA'], 1, 0)\n",
        "    else:\n",
        "        st.warning('Invalid strategy selected!')\n",
        "        st.stop()\n",
        "\n",
        "    data['Position'] = data.Signal.diff()\n",
        "\n",
        "    # Create plot\n",
        "    fig, ax = plt.subplots(figsize=(20,10))\n",
        "    data['Close'].plot(color = 'k', label= 'Close Price')\n",
        "    if strategy == 'SMA':\n",
        "        data['20_SMA'].plot(color = 'b',label = '20-day SMA')\n",
        "        data['50_SMA'].plot(color = 'g', label = '50-day SMA')\n",
        "    elif strategy == 'EMA':\n",
        "        data['20_EMA'].plot(color = 'b',label = '20-day EMA')\n",
        "        data['50_EMA'].plot(color = 'g', label = '50-day EMA')\n",
        "    ax.plot(data[data['Position'] == 1].index, data['Close'][data['Position'] == 1], '^', markersize = 15, color = 'g', label = 'buy')\n",
        "    ax.plot(data[data['Position'] == -1].index, data['Close'][data['Position'] == -1], 'v', markersize = 15, color = 'r', label = 'sell')\n",
        "    ax.set_ylabel('Price in Rupees', fontsize = 15 )\n",
        "    ax.set_xlabel('Date', fontsize = 15 )\n",
        "    ax.set_title(f'{symbol.upper()} ({strategy.upper()} strategy, Principal = {principal})', fontsize = 20)\n",
        "    ax.legend()\n",
        "    ax.grid()\n",
        "    st.pyplot(fig)\n",
        "\n",
        "    # Create and print position table\n",
        "    df_pos = data[(data['Position'] == 1) | (data['Position'] == -1)].copy()\n",
        "    df_pos['Position'] = df_pos['Position'].apply(lambda x: 'Buy' if x==1 else 'Sell')\n",
        "    df_pos.rename(columns={'Position': 'Action'}, inplace=True)\n",
        "    df_pos.insert(0, 'Trade Date', df_pos.index)\n",
        "    df_pos.reset_index(drop=True, inplace=True)\n",
        "    df_pos['Quantity'] = principal / df_pos['Close']\n",
        "    df_pos['Amount'] = df_pos['Quantity'] * df_pos['Close']\n",
        "    df_pos['Cumulative Amount'] = df_pos['Amount'].cumsum()\n",
        "    st.subheader('Position Table')\n",
        "    st.table(df_pos[['Trade Date', 'Action', 'Close', 'Quantity', 'Amount', 'Cumulative Amount']].style.format({\n",
        "    'Close': '{:.2f}',\n",
        "    'Quantity': '{:.2f}',\n",
        "    'Amount': '{:.2f}',\n",
        "    'Cumulative Amount': '{:.2f}',\n",
        "    }))\n",
        "\n",
        "    # Print performance metrics\n",
        "    st.write('## Performance Metrics')\n",
        "    total_trades = len(df_pos)\n",
        "    win_trades = len(df_pos[df_pos['Action']=='Sell'])\n",
        "    loss_trades = total_trades - win_trades\n",
        "    win_rate = win_trades/total_trades*100\n",
        "    \n",
        "    st.write(f'Total Trades: {total_trades}')\n",
        "    st.write(f'Win Trades: {win_trades}')\n",
        "    st.write(f'Loss Trades: {loss_trades}')\n",
        "    st.write(f'Win Rate: {win_rate:.2f}%')\n",
        "\n"
      ]
    },
    {
      "cell_type": "code",
      "source": [
        "! pip install streamlit -q"
      ],
      "metadata": {
        "colab": {
          "base_uri": "https://localhost:8080/"
        },
        "id": "2Pr-1vKje2NH",
        "outputId": "db9093f8-577e-4cd5-b5ea-adec33db8782"
      },
      "id": "2Pr-1vKje2NH",
      "execution_count": 2,
      "outputs": [
        {
          "output_type": "stream",
          "name": "stdout",
          "text": [
            "\u001b[2K     \u001b[90m━━━━━━━━━━━━━━━━━━━━━━━━━━━━━━━━━━━━━━━━\u001b[0m \u001b[32m9.6/9.6 MB\u001b[0m \u001b[31m55.5 MB/s\u001b[0m eta \u001b[36m0:00:00\u001b[0m\n",
            "\u001b[?25h  Preparing metadata (setup.py) ... \u001b[?25l\u001b[?25hdone\n",
            "\u001b[2K     \u001b[90m━━━━━━━━━━━━━━━━━━━━━━━━━━━━━━━━━━━━━━━━\u001b[0m \u001b[32m4.7/4.7 MB\u001b[0m \u001b[31m91.2 MB/s\u001b[0m eta \u001b[36m0:00:00\u001b[0m\n",
            "\u001b[2K     \u001b[90m━━━━━━━━━━━━━━━━━━━━━━━━━━━━━━━━━━━━━━━━\u001b[0m \u001b[32m82.1/82.1 KB\u001b[0m \u001b[31m10.7 MB/s\u001b[0m eta \u001b[36m0:00:00\u001b[0m\n",
            "\u001b[2K     \u001b[90m━━━━━━━━━━━━━━━━━━━━━━━━━━━━━━━━━━━━━━\u001b[0m \u001b[32m184.3/184.3 KB\u001b[0m \u001b[31m21.7 MB/s\u001b[0m eta \u001b[36m0:00:00\u001b[0m\n",
            "\u001b[2K     \u001b[90m━━━━━━━━━━━━━━━━━━━━━━━━━━━━━━━━━━━━━━\u001b[0m \u001b[32m164.8/164.8 KB\u001b[0m \u001b[31m21.8 MB/s\u001b[0m eta \u001b[36m0:00:00\u001b[0m\n",
            "\u001b[2K     \u001b[90m━━━━━━━━━━━━━━━━━━━━━━━━━━━━━━━━━━━━━━━━\u001b[0m \u001b[32m62.7/62.7 KB\u001b[0m \u001b[31m7.1 MB/s\u001b[0m eta \u001b[36m0:00:00\u001b[0m\n",
            "\u001b[?25h  Building wheel for validators (setup.py) ... \u001b[?25l\u001b[?25hdone\n"
          ]
        }
      ]
    },
    {
      "cell_type": "code",
      "source": [
        "!streamlit run my_project5.py & npx localtunnel --port 8501"
      ],
      "metadata": {
        "colab": {
          "base_uri": "https://localhost:8080/"
        },
        "id": "AGsY9YdKIeSs",
        "outputId": "3b37efff-0521-460a-82d4-18da7f9d871f"
      },
      "id": "AGsY9YdKIeSs",
      "execution_count": 9,
      "outputs": [
        {
          "output_type": "stream",
          "name": "stdout",
          "text": [
            "[##................] | fetchMetadata: sill resolveWithNewModule ansi-styles@4.3\u001b[0m\u001b[K\n",
            "Collecting usage statistics. To deactivate, set browser.gatherUsageStats to False.\n",
            "\u001b[0m\n",
            "\u001b[0m\n",
            "\u001b[34m\u001b[1m  You can now view your Streamlit app in your browser.\u001b[0m\n",
            "\u001b[0m\n",
            "\u001b[34m  Network URL: \u001b[0m\u001b[1mhttp://172.28.0.12:8501\u001b[0m\n",
            "\u001b[34m  External URL: \u001b[0m\u001b[1mhttp://34.125.77.182:8501\u001b[0m\n",
            "\u001b[0m\n",
            "\u001b[K\u001b[?25hnpx: installed 22 in 2.953s\n",
            "your url is: https://free-zoos-joke-34-125-77-182.loca.lt\n",
            "2023-04-02 06:22:30.185 Uncaught app exception\n",
            "Traceback (most recent call last):\n",
            "  File \"/usr/local/lib/python3.9/dist-packages/streamlit/runtime/scriptrunner/script_runner.py\", line 565, in _run_script\n",
            "    exec(code, module.__dict__)\n",
            "  File \"/content/my_project5.py\", line 93, in <module>\n",
            "    drive.mount('/content/drive')\n",
            "  File \"/usr/local/lib/python3.9/dist-packages/google/colab/drive.py\", line 103, in mount\n",
            "    return _mount(\n",
            "  File \"/usr/local/lib/python3.9/dist-packages/google/colab/drive.py\", line 132, in _mount\n",
            "    _message.blocking_request(\n",
            "  File \"/usr/local/lib/python3.9/dist-packages/google/colab/_message.py\", line 174, in blocking_request\n",
            "    request_id = send_request(\n",
            "  File \"/usr/local/lib/python3.9/dist-packages/google/colab/_message.py\", line 118, in send_request\n",
            "    instance = ipython.get_kernelapp()\n",
            "  File \"/usr/local/lib/python3.9/dist-packages/google/colab/_ipython.py\", line 28, in get_kernelapp\n",
            "    return get_ipython().kernel.parent\n",
            "AttributeError: 'NoneType' object has no attribute 'kernel'\n",
            "2023-04-02 06:22:48.323 Uncaught app exception\n",
            "Traceback (most recent call last):\n",
            "  File \"/usr/local/lib/python3.9/dist-packages/streamlit/runtime/scriptrunner/script_runner.py\", line 565, in _run_script\n",
            "    exec(code, module.__dict__)\n",
            "  File \"/content/my_project5.py\", line 93, in <module>\n",
            "    drive.mount('/content/drive')\n",
            "  File \"/usr/local/lib/python3.9/dist-packages/google/colab/drive.py\", line 103, in mount\n",
            "    return _mount(\n",
            "  File \"/usr/local/lib/python3.9/dist-packages/google/colab/drive.py\", line 132, in _mount\n",
            "    _message.blocking_request(\n",
            "  File \"/usr/local/lib/python3.9/dist-packages/google/colab/_message.py\", line 174, in blocking_request\n",
            "    request_id = send_request(\n",
            "  File \"/usr/local/lib/python3.9/dist-packages/google/colab/_message.py\", line 118, in send_request\n",
            "    instance = ipython.get_kernelapp()\n",
            "  File \"/usr/local/lib/python3.9/dist-packages/google/colab/_ipython.py\", line 28, in get_kernelapp\n",
            "    return get_ipython().kernel.parent\n",
            "AttributeError: 'NoneType' object has no attribute 'kernel'\n",
            "2023-04-02 06:23:07.174 Uncaught app exception\n",
            "Traceback (most recent call last):\n",
            "  File \"/usr/local/lib/python3.9/dist-packages/streamlit/runtime/scriptrunner/script_runner.py\", line 565, in _run_script\n",
            "    exec(code, module.__dict__)\n",
            "  File \"/content/my_project5.py\", line 93, in <module>\n",
            "    drive.mount('/content/drive')\n",
            "  File \"/usr/local/lib/python3.9/dist-packages/google/colab/drive.py\", line 103, in mount\n",
            "    return _mount(\n",
            "  File \"/usr/local/lib/python3.9/dist-packages/google/colab/drive.py\", line 132, in _mount\n",
            "    _message.blocking_request(\n",
            "  File \"/usr/local/lib/python3.9/dist-packages/google/colab/_message.py\", line 174, in blocking_request\n",
            "    request_id = send_request(\n",
            "  File \"/usr/local/lib/python3.9/dist-packages/google/colab/_message.py\", line 118, in send_request\n",
            "    instance = ipython.get_kernelapp()\n",
            "  File \"/usr/local/lib/python3.9/dist-packages/google/colab/_ipython.py\", line 28, in get_kernelapp\n",
            "    return get_ipython().kernel.parent\n",
            "AttributeError: 'NoneType' object has no attribute 'kernel'\n",
            "2023-04-02 06:23:09.221 Uncaught app exception\n",
            "Traceback (most recent call last):\n",
            "  File \"/usr/local/lib/python3.9/dist-packages/streamlit/runtime/scriptrunner/script_runner.py\", line 565, in _run_script\n",
            "    exec(code, module.__dict__)\n",
            "  File \"/content/my_project5.py\", line 85, in <module>\n",
            "    win_rate = win_trades/total_trades*100\n",
            "ZeroDivisionError: division by zero\n",
            "2023-04-02 06:23:26.035 Uncaught app exception\n",
            "Traceback (most recent call last):\n",
            "  File \"/usr/local/lib/python3.9/dist-packages/streamlit/runtime/scriptrunner/script_runner.py\", line 565, in _run_script\n",
            "    exec(code, module.__dict__)\n",
            "  File \"/content/my_project5.py\", line 93, in <module>\n",
            "    drive.mount('/content/drive')\n",
            "  File \"/usr/local/lib/python3.9/dist-packages/google/colab/drive.py\", line 103, in mount\n",
            "    return _mount(\n",
            "  File \"/usr/local/lib/python3.9/dist-packages/google/colab/drive.py\", line 132, in _mount\n",
            "    _message.blocking_request(\n",
            "  File \"/usr/local/lib/python3.9/dist-packages/google/colab/_message.py\", line 174, in blocking_request\n",
            "    request_id = send_request(\n",
            "  File \"/usr/local/lib/python3.9/dist-packages/google/colab/_message.py\", line 118, in send_request\n",
            "    instance = ipython.get_kernelapp()\n",
            "  File \"/usr/local/lib/python3.9/dist-packages/google/colab/_ipython.py\", line 28, in get_kernelapp\n",
            "    return get_ipython().kernel.parent\n",
            "AttributeError: 'NoneType' object has no attribute 'kernel'\n",
            "2023-04-02 06:23:28.981 Uncaught app exception\n",
            "Traceback (most recent call last):\n",
            "  File \"/usr/local/lib/python3.9/dist-packages/streamlit/runtime/scriptrunner/script_runner.py\", line 565, in _run_script\n",
            "    exec(code, module.__dict__)\n",
            "  File \"/content/my_project5.py\", line 93, in <module>\n",
            "    drive.mount('/content/drive')\n",
            "  File \"/usr/local/lib/python3.9/dist-packages/google/colab/drive.py\", line 103, in mount\n",
            "    return _mount(\n",
            "  File \"/usr/local/lib/python3.9/dist-packages/google/colab/drive.py\", line 132, in _mount\n",
            "    _message.blocking_request(\n",
            "  File \"/usr/local/lib/python3.9/dist-packages/google/colab/_message.py\", line 174, in blocking_request\n",
            "    request_id = send_request(\n",
            "  File \"/usr/local/lib/python3.9/dist-packages/google/colab/_message.py\", line 118, in send_request\n",
            "    instance = ipython.get_kernelapp()\n",
            "  File \"/usr/local/lib/python3.9/dist-packages/google/colab/_ipython.py\", line 28, in get_kernelapp\n",
            "    return get_ipython().kernel.parent\n",
            "AttributeError: 'NoneType' object has no attribute 'kernel'\n",
            "\u001b[34m  Stopping...\u001b[0m\n",
            "^C\n"
          ]
        }
      ]
    },
    {
      "cell_type": "code",
      "source": [
        "from google.colab import drive\n",
        "drive.mount('/content/drive')"
      ],
      "metadata": {
        "colab": {
          "base_uri": "https://localhost:8080/"
        },
        "id": "ZdKG7P2OjyTm",
        "outputId": "85043f6b-18df-4ffc-b670-879649a29302"
      },
      "id": "ZdKG7P2OjyTm",
      "execution_count": 8,
      "outputs": [
        {
          "output_type": "stream",
          "name": "stdout",
          "text": [
            "Drive already mounted at /content/drive; to attempt to forcibly remount, call drive.mount(\"/content/drive\", force_remount=True).\n"
          ]
        }
      ]
    },
    {
      "cell_type": "markdown",
      "source": [
        "# New Section"
      ],
      "metadata": {
        "id": "69ErFjpK9Nrx"
      },
      "id": "69ErFjpK9Nrx"
    }
  ],
  "metadata": {
    "kernelspec": {
      "display_name": "Python 3 (ipykernel)",
      "language": "python",
      "name": "python3"
    },
    "language_info": {
      "codemirror_mode": {
        "name": "ipython",
        "version": 3
      },
      "file_extension": ".py",
      "mimetype": "text/x-python",
      "name": "python",
      "nbconvert_exporter": "python",
      "pygments_lexer": "ipython3",
      "version": "3.10.0"
    },
    "colab": {
      "provenance": []
    }
  },
  "nbformat": 4,
  "nbformat_minor": 5
}